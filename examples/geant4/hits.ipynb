{
 "cells": [
  {
   "cell_type": "code",
   "execution_count": null,
   "metadata": {},
   "outputs": [],
   "source": [
    "import ROOT\n",
    "%jsroot on"
   ]
  },
  {
   "cell_type": "code",
   "execution_count": null,
   "metadata": {},
   "outputs": [],
   "source": [
    "fTRD = ROOT.TFile(\"data/o2sim_HitsTRD.root\")\n",
    "fTRD.ls()\n",
    "\n",
    "trdhits = fTRD.Get(\"o2sim\")\n",
    "trdhits.Print()"
   ]
  },
  {
   "cell_type": "code",
   "execution_count": null,
   "metadata": {},
   "outputs": [],
   "source": [
    "# fTPC = ROOT.TFile(\"data/o2sim_HitsTPC.root\")\n",
    "# tpchits = fTPC.Get(\"o2sim\")\n",
    "# tpchits.Print()"
   ]
  },
  {
   "cell_type": "code",
   "execution_count": null,
   "metadata": {},
   "outputs": [],
   "source": [
    "fITS = ROOT.TFile(\"data/o2sim_HitsITS.root\")\n",
    "itshits = fITS.Get(\"o2sim\")\n",
    "itshits.Print()"
   ]
  },
  {
   "cell_type": "code",
   "execution_count": null,
   "metadata": {},
   "outputs": [],
   "source": [
    "c = ROOT.TCanvas()\n",
    "trdhits.Draw(\"fX:fY\")\n",
    "\n",
    "itshits.SetMarkerColor(ROOT.kRed)\n",
    "itshits.Draw(\"fY:fX\", \"\", \"same\")\n",
    "# f1 = ROOT.TF1(\"func1\", \"sin(x)\", 0, 10)\n",
    "# f1.Draw()\n",
    "c.Draw()"
   ]
  },
  {
   "cell_type": "code",
   "execution_count": null,
   "metadata": {},
   "outputs": [],
   "source": [
    "trdhits.Scan(\"fX:fY:fZ:mTrackID:mDetectorID:mHitValue\",\"mTrackID==3\")"
   ]
  },
  {
   "cell_type": "code",
   "execution_count": null,
   "metadata": {},
   "outputs": [],
   "source": [
    "c = ROOT.TCanvas()\n",
    "trdhits.SetMarkerStyle(21)\n",
    "trdhits.Draw(\"mHitValue:fX\", \"mTrackID==3 && mDetectorID==306\")\n",
    "c.Draw()\n",
    "c.SaveAs(\"q_vs_x.png\")"
   ]
  },
  {
   "cell_type": "code",
   "execution_count": null,
   "metadata": {},
   "outputs": [],
   "source": [
    "c = ROOT.TCanvas()\n",
    "trdhits.SetMarkerStyle(21)\n",
    "trdhits.Draw(\"locT:locC\", \"mHitValue * (mTrackID==3 && mDetectorID==306)\", \"BOX\")\n",
    "c.Draw()\n",
    "c.SaveAs(\"q_vs_locxy.png\")"
   ]
  },
  {
   "cell_type": "code",
   "execution_count": null,
   "metadata": {},
   "outputs": [],
   "source": []
  }
 ],
 "metadata": {
  "kernelspec": {
   "display_name": "Python 3",
   "language": "python",
   "name": "python3"
  },
  "language_info": {
   "codemirror_mode": {
    "name": "ipython",
    "version": 3
   },
   "file_extension": ".py",
   "mimetype": "text/x-python",
   "name": "python",
   "nbconvert_exporter": "python",
   "pygments_lexer": "ipython3",
   "version": "3.8.5"
  }
 },
 "nbformat": 4,
 "nbformat_minor": 4
}
